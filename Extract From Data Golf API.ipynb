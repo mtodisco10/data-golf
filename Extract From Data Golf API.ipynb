{
 "cells": [
  {
   "cell_type": "code",
   "execution_count": 44,
   "id": "cubic-affair",
   "metadata": {},
   "outputs": [],
   "source": [
    "import requests\n",
    "import json\n",
    "import pandas as pd\n",
    "import numpy as np\n",
    "from functools import reduce\n",
    "from datetime import datetime\n",
    "import sys\n",
    "sys.path.append('/Users/MikeTodisco/opt/anaconda3/lib/python3.7/site-packages')\n",
    "\n",
    "from draft_kings import Sport, Client\n",
    "from tqdm.notebook import tqdm\n"
   ]
  },
  {
   "cell_type": "code",
   "execution_count": 2,
   "id": "dressed-elite",
   "metadata": {},
   "outputs": [],
   "source": [
    "contests = Client().contests(sport=Sport.GOLF)\n",
    "\n",
    "def get_draft_group_id(contest_obj, contest_type_id=84):\n",
    "    draft_groups = contest_obj.draft_groups\n",
    "    draft_group_id_lst = []\n",
    "    for x in draft_groups:\n",
    "        if x.contest_type_id == contest_type_id:\n",
    "            draft_group_id_lst.append(x.draft_group_id)\n",
    "            \n",
    "    return min(draft_group_id_lst)\n",
    "\n",
    "draft_group_id = get_draft_group_id(contests)"
   ]
  },
  {
   "cell_type": "code",
   "execution_count": 15,
   "id": "polished-surprise",
   "metadata": {},
   "outputs": [],
   "source": [
    "def get_draftables(draft_group_id):\n",
    "    df_lst = []\n",
    "    player_lst = Client().draftables(draft_group_id=draft_group_id).players\n",
    "    for player in tqdm(player_lst):\n",
    "        name_details = player.name_details\n",
    "        first = name_details.first\n",
    "        last = name_details.last\n",
    "        name = f'{last}, {first}'\n",
    "        salary = player.salary\n",
    "\n",
    "        df = pd.DataFrame({\n",
    "            'player_name': name,\n",
    "            'showdown_salary': salary\n",
    "        }, index=[0])\n",
    "\n",
    "        df_lst.append(df)\n",
    "\n",
    "    return pd.concat(df_lst).reset_index(drop=True)"
   ]
  },
  {
   "cell_type": "code",
   "execution_count": 16,
   "id": "magnetic-lease",
   "metadata": {},
   "outputs": [
    {
     "data": {
      "application/vnd.jupyter.widget-view+json": {
       "model_id": "8e0505a59d944d51ab94a799cabad35e",
       "version_major": 2,
       "version_minor": 0
      },
      "text/plain": [
       "HBox(children=(FloatProgress(value=0.0, max=66.0), HTML(value='')))"
      ]
     },
     "metadata": {},
     "output_type": "display_data"
    },
    {
     "name": "stdout",
     "output_type": "stream",
     "text": [
      "\n"
     ]
    }
   ],
   "source": [
    "draftable_df = get_draftables(draft_group_id)\n",
    "draftable_df.to_csv('draftables.csv', index=False)"
   ]
  },
  {
   "cell_type": "code",
   "execution_count": 17,
   "id": "treated-number",
   "metadata": {},
   "outputs": [
    {
     "data": {
      "text/plain": [
       "54136"
      ]
     },
     "execution_count": 17,
     "metadata": {},
     "output_type": "execute_result"
    }
   ],
   "source": [
    "draft_group_id"
   ]
  },
  {
   "cell_type": "code",
   "execution_count": 18,
   "id": "proved-ownership",
   "metadata": {},
   "outputs": [],
   "source": [
    "MY_API_KEY = 'dac62093607b097430db71962680'\n",
    "API_PATH = 'https://feeds.datagolf.com/'\n",
    "FILE_FORMAT = 'json'"
   ]
  },
  {
   "cell_type": "code",
   "execution_count": 19,
   "id": "convertible-classification",
   "metadata": {},
   "outputs": [],
   "source": [
    "tour_lst = [\n",
    "    'PGA',\n",
    "    'OPP',\n",
    "    'EUR',\n",
    "    'KFT',\n",
    "]"
   ]
  },
  {
   "cell_type": "code",
   "execution_count": 20,
   "id": "controlling-sheffield",
   "metadata": {},
   "outputs": [],
   "source": [
    "config = {\n",
    "    'field_updates':\n",
    "    [\n",
    "        'dg_id',\n",
    "        'player_name',\n",
    "        'country',\n",
    "        'event_name',\n",
    "        'current_round',\n",
    "        'dk_id',\n",
    "        'dk_salary',\n",
    "        'fd_id',\n",
    "        'fd_salary',\n",
    "        'yh_id',\n",
    "        'yh_salary',\n",
    "        'early_late',\n",
    "        'last_updated',\n",
    "    ],\n",
    "    'rankings':\n",
    "    [\n",
    "        'dg_id',\n",
    "        #'player_name',\n",
    "        'primary_tour',\n",
    "        'datagolf_rank',\n",
    "        'owgr_rank',\n",
    "        'dg_skill_estimate'\n",
    "    ],\n",
    "    'pre_tourney_preds':\n",
    "    [\n",
    "        'dg_id',\n",
    "        #'player_name',\n",
    "        'make_cut_baseline',\n",
    "        'top_10_baseline', \n",
    "        'top_20_baseline', \n",
    "        'top_5_baseline',\n",
    "        'win_baseline', \n",
    "        'make_cut_baseline_history_fit',\n",
    "        'top_10_baseline_history_fit', \n",
    "        'top_20_baseline_history_fit',\n",
    "        'top_5_baseline_history_fit', \n",
    "        'win_baseline_history_fit'\n",
    "    ],\n",
    "    'skill_decomps':\n",
    "    ['dg_id',\n",
    "     #'player_name',\n",
    "     'baseline_pred', \n",
    "     'timing_adjustment',\n",
    "     'age_adjustment',\n",
    "     #'cf_approach_comp',\n",
    "     #'cf_short_comp',\n",
    "     'strokes_gained_category_adjustment',\n",
    "     'course_experience_adjustment',\n",
    "     'course_history_adjustment', \n",
    "     'total_course_history_adjustment', \n",
    "     'total_fit_adjustment',\n",
    "     'driving_accuracy_adjustment',\n",
    "     'driving_distance_adjustment', \n",
    "     'other_fit_adjustment',\n",
    "     'final_pred',\n",
    "    ]\n",
    "}"
   ]
  },
  {
   "cell_type": "code",
   "execution_count": 21,
   "id": "portable-survey",
   "metadata": {},
   "outputs": [],
   "source": [
    "def get_field_updates(path, tour, key=MY_API_KEY):\n",
    "    response = requests.get(f'{API_PATH}{path}?tour={tour}&key={key}')\n",
    "    data = response.json()\n",
    "    df = pd.DataFrame(data['field'])\n",
    "    \n",
    "    for col in data.keys():\n",
    "        if col != 'field':\n",
    "            df[col] = data[col]\n",
    "    \n",
    "    return df[config['field_updates']]\n",
    "\n",
    "def get_rankings(path, key=MY_API_KEY):\n",
    "    response = requests.get(f'{API_PATH}{path}?&key={key}')\n",
    "    data = response.json()\n",
    "    df = pd.DataFrame(data['rankings'])\n",
    "    \n",
    "    return df[config['rankings']]\n",
    "\n",
    "def get_pre_tourney_preds(path, tour, odds_format='percent', key=MY_API_KEY):\n",
    "    response = requests.get(f'{API_PATH}{path}?tour={tour}&odds_format={odds_format}&key={key}')\n",
    "    data = response.json()\n",
    "    \n",
    "    model_dict = {}\n",
    "    for model in data['models_available']:\n",
    "        df = pd.DataFrame(data[model])\n",
    "        pred_cols = ['make_cut','top_10','top_20','top_5','win']\n",
    "        df.rename(\n",
    "            columns={x: x + f'_{model}' for x in pred_cols}, inplace=True\n",
    "        )\n",
    "        \n",
    "        model_dict[model] = df\n",
    "        \n",
    "    cols_to_use = [col for col in model_dict['baseline_history_fit'].columns if 'history' in col] + ['dg_id']\n",
    "    \n",
    "    df = (model_dict['baseline']\n",
    "          .merge(model_dict['baseline_history_fit'][cols_to_use],\n",
    "                 how='left',\n",
    "                 on='dg_id'\n",
    "                )\n",
    "         )\n",
    "    \n",
    "    return df[config['pre_tourney_preds']]\n",
    "\n",
    "def get_player_skill_decomps(path, tour, key=MY_API_KEY):\n",
    "    response = requests.get(f'{API_PATH}{path}?tour={tour}&key={key}')\n",
    "    data = response.json()\n",
    "    \n",
    "    df = pd.DataFrame(data['players'])\n",
    "    \n",
    "    return df[config['skill_decomps']]"
   ]
  },
  {
   "cell_type": "code",
   "execution_count": 22,
   "id": "sonic-encoding",
   "metadata": {},
   "outputs": [],
   "source": [
    "def merge_dfs(dfs):\n",
    "    merged_dfs = reduce(lambda left, right: pd.merge(left, right, on='dg_id', how='left'), dfs)\n",
    "    \n",
    "    return merged_dfs"
   ]
  },
  {
   "cell_type": "code",
   "execution_count": 23,
   "id": "developmental-church",
   "metadata": {},
   "outputs": [],
   "source": [
    "field_updates_df = get_field_updates('field-updates', 'pga')\n",
    "rank_df = get_rankings('preds/get-dg-rankings')\n",
    "pred_data = get_pre_tourney_preds('preds/pre-tournament', 'pga')\n",
    "skill_df = get_player_skill_decomps('preds/player-decompositions?', 'pga')"
   ]
  },
  {
   "cell_type": "code",
   "execution_count": 24,
   "id": "remarkable-employment",
   "metadata": {},
   "outputs": [],
   "source": [
    "merged_df = merge_dfs([field_updates_df, rank_df, pred_data, skill_df])"
   ]
  },
  {
   "cell_type": "code",
   "execution_count": 25,
   "id": "expensive-advertising",
   "metadata": {},
   "outputs": [],
   "source": [
    "now = datetime.now()\n",
    "merged_df.to_csv(f'data_golf_{now.strftime(\"%Y-%m-%d\")}.csv', index=False)"
   ]
  },
  {
   "cell_type": "code",
   "execution_count": 52,
   "id": "buried-click",
   "metadata": {},
   "outputs": [],
   "source": [
    "player_name_map = {\n",
    "    'Lee, Kyoung-Hoon':'Lee, Kyounghoon',\n",
    "    'Fitzpatrick, Matt':'Fitzpatrick, Matthew'\n",
    "}"
   ]
  },
  {
   "cell_type": "code",
   "execution_count": 53,
   "id": "japanese-fleet",
   "metadata": {},
   "outputs": [],
   "source": [
    "draftable_df['player_name'] = (np.where(draftable_df['player_name'].isin(player_name_map.keys()),\n",
    "                                        draftable_df['player_name'].map(player_name_map),\n",
    "                                        draftable_df['player_name'])\n",
    "                              )"
   ]
  },
  {
   "cell_type": "code",
   "execution_count": 54,
   "id": "likely-astrology",
   "metadata": {},
   "outputs": [],
   "source": [
    "showdown_df = merged_df.merge(draftable_df, how = 'left', on ='player_name')"
   ]
  },
  {
   "cell_type": "code",
   "execution_count": null,
   "id": "appreciated-answer",
   "metadata": {},
   "outputs": [],
   "source": []
  }
 ],
 "metadata": {
  "kernelspec": {
   "display_name": "Python 3",
   "language": "python",
   "name": "python3"
  },
  "language_info": {
   "codemirror_mode": {
    "name": "ipython",
    "version": 3
   },
   "file_extension": ".py",
   "mimetype": "text/x-python",
   "name": "python",
   "nbconvert_exporter": "python",
   "pygments_lexer": "ipython3",
   "version": "3.6.0"
  }
 },
 "nbformat": 4,
 "nbformat_minor": 5
}
