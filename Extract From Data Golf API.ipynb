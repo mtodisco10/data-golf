{
 "cells": [
  {
   "cell_type": "code",
   "execution_count": 6,
   "id": "fifth-winner",
   "metadata": {},
   "outputs": [
    {
     "name": "stdout",
     "output_type": "stream",
     "text": [
      "The dotenv extension is already loaded. To reload it, use:\n",
      "  %reload_ext dotenv\n"
     ]
    }
   ],
   "source": [
    "import pandas as pd\n",
    "import numpy as np\n",
    "import requests\n",
    "import json\n",
    "import os\n",
    "from tqdm.notebook import tqdm\n",
    "from functools import reduce\n",
    "from datetime import datetime\n",
    "import warnings \n",
    "warnings.filterwarnings('ignore')\n",
    "\n",
    "from dotenv import load_dotenv\n",
    "%load_ext dotenv\n",
    "%dotenv\n",
    "\n",
    "from config import API_PATH, tour_lst, config\n",
    "\n",
    "MY_API_KEY = os.getenv('MY_API_KEY')"
   ]
  },
  {
   "cell_type": "code",
   "execution_count": 7,
   "id": "settled-birthday",
   "metadata": {},
   "outputs": [],
   "source": [
    "def get_draft_group_id(contest_obj, contest_type_id=84):\n",
    "    draft_groups = contest_obj.draft_groups\n",
    "    draft_group_id_lst = []\n",
    "    for x in draft_groups:\n",
    "        if x.contest_type_id == contest_type_id:\n",
    "            draft_group_id_lst.append(x.draft_group_id)\n",
    "            \n",
    "    return min(draft_group_id_lst)\n",
    "\n",
    "#draft_group_id = get_draft_group_id(contests)"
   ]
  },
  {
   "cell_type": "code",
   "execution_count": 8,
   "id": "national-level",
   "metadata": {},
   "outputs": [],
   "source": [
    "def get_draftables(draft_group_id):\n",
    "    df_lst = []\n",
    "    player_lst = Client().draftables(draft_group_id=draft_group_id).players\n",
    "    for player in tqdm(player_lst):\n",
    "        name_details = player.name_details\n",
    "        first = name_details.first\n",
    "        last = name_details.last\n",
    "        name = f'{last}, {first}'\n",
    "        salary = player.salary\n",
    "\n",
    "        df = pd.DataFrame({\n",
    "            'player_name': name,\n",
    "            'showdown_salary': salary\n",
    "        }, index=[0])\n",
    "\n",
    "        df_lst.append(df)\n",
    "\n",
    "    return pd.concat(df_lst).reset_index(drop=True)"
   ]
  },
  {
   "cell_type": "markdown",
   "id": "responsible-hunger",
   "metadata": {},
   "source": [
    "# Data-golf\n",
    "## Current Rounds"
   ]
  },
  {
   "cell_type": "code",
   "execution_count": 9,
   "id": "yellow-privilege",
   "metadata": {},
   "outputs": [],
   "source": [
    "class CurrentDataGolfExtractor:\n",
    "    def __init__(self,\n",
    "                 tour,\n",
    "                 config=config,\n",
    "                 api_path=API_PATH,\n",
    "                 api_key=MY_API_KEY,\n",
    "                 odds_format='percent',\n",
    "                ):\n",
    "        \"\"\"\n",
    "        \"\"\"\n",
    "        self.tour = tour\n",
    "        self.config = config\n",
    "        self.api_path = api_path\n",
    "        self.api_key = api_key\n",
    "        self.odds_format = odds_format\n",
    "    \n",
    "    def get_field_updates(self, config_key):\n",
    "        \"\"\"\n",
    "        \"\"\"\n",
    "        path = self.config[config_key].get('path')\n",
    "        response = requests.get(f'{self.api_path}{path}?tour={self.tour}&key={self.api_key}')\n",
    "        data = response.json()\n",
    "        df = pd.DataFrame(data['field'])\n",
    "        for col in data.keys():\n",
    "            if col != 'field':\n",
    "                df[col] = data[col]\n",
    "                \n",
    "        return df[self.config[config_key]['fields']]\n",
    "    \n",
    "    def get_rankings(self, config_key):\n",
    "        \"\"\"\n",
    "        \"\"\"\n",
    "        path = self.config[config_key].get('path')\n",
    "        response = requests.get(f'{self.api_path}{path}?&key={self.api_key}')\n",
    "        data = response.json()\n",
    "        df = pd.DataFrame(data['rankings'])\n",
    "        \n",
    "        return df[config[config_key]['fields']]\n",
    "    \n",
    "    def get_pre_tourney_preds(self, config_key):\n",
    "        \"\"\"\n",
    "        \"\"\"\n",
    "        path = self.config[config_key].get('path')\n",
    "        response = requests.get(f'{self.api_path}{path}?tour={self.tour}&odds_format={self.odds_format}&key={self.api_key}')\n",
    "        data = response.json()\n",
    "\n",
    "        model_dict = {}\n",
    "        for model in data['models_available']:\n",
    "            df = pd.DataFrame(data[model])\n",
    "            pred_cols = ['make_cut','top_10','top_20','top_5','win']\n",
    "            df.rename(\n",
    "                columns={x: x + f'_{model}' for x in pred_cols}, inplace=True\n",
    "            )\n",
    "            \n",
    "            model_dict[model] = df\n",
    "        \n",
    "        cols_to_use = [col for col in model_dict['baseline_history_fit'].columns if 'history' in col] + ['dg_id']\n",
    "        \n",
    "        df = (model_dict['baseline']\n",
    "              .merge(model_dict['baseline_history_fit'][cols_to_use],\n",
    "                     how='left',\n",
    "                     on='dg_id'\n",
    "                    )\n",
    "             )\n",
    "    \n",
    "        return df[config[config_key]['fields']]\n",
    "    \n",
    "    def get_player_skill_decomps(self, config_key):\n",
    "        \"\"\"\n",
    "        \"\"\"\n",
    "        path = self.config[config_key].get('path')\n",
    "        response = requests.get(f'{self.api_path}{path}?tour={self.tour}&key={self.api_key}')\n",
    "        data = response.json()\n",
    "        df = pd.DataFrame(data['players'])\n",
    "        \n",
    "        return df[config[config_key]['fields']]\n",
    "    \n",
    "    def pull_and_merge_dfs(self):\n",
    "        \"\"\"\n",
    "        \"\"\"\n",
    "        field_updates = self.get_field_updates('field_updates')\n",
    "        rankings = self.get_rankings('rankings')\n",
    "        pre_tourney_preds = self.get_pre_tourney_preds('pre_tourney_preds')\n",
    "        skill_decomps = self.get_player_skill_decomps('skill_decomps')\n",
    "        \n",
    "        dfs=[field_updates,\n",
    "             rankings,\n",
    "             #pre_tourney_preds,\n",
    "             skill_decomps]\n",
    "        merged_dfs = reduce(lambda left, right: pd.merge(left, right, on='dg_id', how='left'), dfs)\n",
    "        \n",
    "        return merged_dfs"
   ]
  },
  {
   "cell_type": "code",
   "execution_count": 10,
   "id": "authentic-teens",
   "metadata": {},
   "outputs": [
    {
     "ename": "KeyError",
     "evalue": "'baseline_history_fit'",
     "output_type": "error",
     "traceback": [
      "\u001b[0;31m---------------------------------------------------------------------------\u001b[0m",
      "\u001b[0;31mKeyError\u001b[0m                                  Traceback (most recent call last)",
      "\u001b[0;32m<ipython-input-10-5d87beff1aa5>\u001b[0m in \u001b[0;36m<module>\u001b[0;34m\u001b[0m\n\u001b[1;32m      1\u001b[0m \u001b[0mdg_extractor\u001b[0m \u001b[0;34m=\u001b[0m \u001b[0mCurrentDataGolfExtractor\u001b[0m\u001b[0;34m(\u001b[0m\u001b[0;34m'pga'\u001b[0m\u001b[0;34m)\u001b[0m\u001b[0;34m\u001b[0m\u001b[0m\n\u001b[0;32m----> 2\u001b[0;31m \u001b[0mdg_df\u001b[0m \u001b[0;34m=\u001b[0m \u001b[0mdg_extractor\u001b[0m\u001b[0;34m.\u001b[0m\u001b[0mpull_and_merge_dfs\u001b[0m\u001b[0;34m(\u001b[0m\u001b[0;34m)\u001b[0m\u001b[0;34m\u001b[0m\u001b[0m\n\u001b[0m",
      "\u001b[0;32m<ipython-input-9-7ba3f0658531>\u001b[0m in \u001b[0;36mpull_and_merge_dfs\u001b[0;34m(self)\u001b[0m\n\u001b[1;32m     81\u001b[0m         \u001b[0mfield_updates\u001b[0m \u001b[0;34m=\u001b[0m \u001b[0mself\u001b[0m\u001b[0;34m.\u001b[0m\u001b[0mget_field_updates\u001b[0m\u001b[0;34m(\u001b[0m\u001b[0;34m'field_updates'\u001b[0m\u001b[0;34m)\u001b[0m\u001b[0;34m\u001b[0m\u001b[0m\n\u001b[1;32m     82\u001b[0m         \u001b[0mrankings\u001b[0m \u001b[0;34m=\u001b[0m \u001b[0mself\u001b[0m\u001b[0;34m.\u001b[0m\u001b[0mget_rankings\u001b[0m\u001b[0;34m(\u001b[0m\u001b[0;34m'rankings'\u001b[0m\u001b[0;34m)\u001b[0m\u001b[0;34m\u001b[0m\u001b[0m\n\u001b[0;32m---> 83\u001b[0;31m         \u001b[0mpre_tourney_preds\u001b[0m \u001b[0;34m=\u001b[0m \u001b[0mself\u001b[0m\u001b[0;34m.\u001b[0m\u001b[0mget_pre_tourney_preds\u001b[0m\u001b[0;34m(\u001b[0m\u001b[0;34m'pre_tourney_preds'\u001b[0m\u001b[0;34m)\u001b[0m\u001b[0;34m\u001b[0m\u001b[0m\n\u001b[0m\u001b[1;32m     84\u001b[0m         \u001b[0mskill_decomps\u001b[0m \u001b[0;34m=\u001b[0m \u001b[0mself\u001b[0m\u001b[0;34m.\u001b[0m\u001b[0mget_player_skill_decomps\u001b[0m\u001b[0;34m(\u001b[0m\u001b[0;34m'skill_decomps'\u001b[0m\u001b[0;34m)\u001b[0m\u001b[0;34m\u001b[0m\u001b[0m\n\u001b[1;32m     85\u001b[0m \u001b[0;34m\u001b[0m\u001b[0m\n",
      "\u001b[0;32m<ipython-input-9-7ba3f0658531>\u001b[0m in \u001b[0;36mget_pre_tourney_preds\u001b[0;34m(self, config_key)\u001b[0m\n\u001b[1;32m     55\u001b[0m             \u001b[0mmodel_dict\u001b[0m\u001b[0;34m[\u001b[0m\u001b[0mmodel\u001b[0m\u001b[0;34m]\u001b[0m \u001b[0;34m=\u001b[0m \u001b[0mdf\u001b[0m\u001b[0;34m\u001b[0m\u001b[0m\n\u001b[1;32m     56\u001b[0m \u001b[0;34m\u001b[0m\u001b[0m\n\u001b[0;32m---> 57\u001b[0;31m         \u001b[0mcols_to_use\u001b[0m \u001b[0;34m=\u001b[0m \u001b[0;34m[\u001b[0m\u001b[0mcol\u001b[0m \u001b[0;32mfor\u001b[0m \u001b[0mcol\u001b[0m \u001b[0;32min\u001b[0m \u001b[0mmodel_dict\u001b[0m\u001b[0;34m[\u001b[0m\u001b[0;34m'baseline_history_fit'\u001b[0m\u001b[0;34m]\u001b[0m\u001b[0;34m.\u001b[0m\u001b[0mcolumns\u001b[0m \u001b[0;32mif\u001b[0m \u001b[0;34m'history'\u001b[0m \u001b[0;32min\u001b[0m \u001b[0mcol\u001b[0m\u001b[0;34m]\u001b[0m \u001b[0;34m+\u001b[0m \u001b[0;34m[\u001b[0m\u001b[0;34m'dg_id'\u001b[0m\u001b[0;34m]\u001b[0m\u001b[0;34m\u001b[0m\u001b[0m\n\u001b[0m\u001b[1;32m     58\u001b[0m \u001b[0;34m\u001b[0m\u001b[0m\n\u001b[1;32m     59\u001b[0m         df = (model_dict['baseline']\n",
      "\u001b[0;31mKeyError\u001b[0m: 'baseline_history_fit'"
     ]
    }
   ],
   "source": [
    "dg_extractor = CurrentDataGolfExtractor('pga')\n",
    "dg_df = dg_extractor.pull_and_merge_dfs()"
   ]
  },
  {
   "cell_type": "code",
   "execution_count": 11,
   "id": "brilliant-disease",
   "metadata": {},
   "outputs": [],
   "source": [
    "# now = datetime.now().strftime('%Y_%m_%d')\n",
    "# dg_df.to_csv(f'pre_tourney_snapshot_{now}.csv', index=False)"
   ]
  },
  {
   "cell_type": "code",
   "execution_count": 12,
   "id": "harmful-roulette",
   "metadata": {},
   "outputs": [],
   "source": [
    "# player_name_map = {\n",
    "#     'Lee, Kyoung-Hoon':'Lee, Kyounghoon',\n",
    "#     'Fitzpatrick, Matt':'Fitzpatrick, Matthew'\n",
    "# }\n",
    "\n",
    "# draftable_df['player_name'] = (np.where(draftable_df['player_name'].isin(player_name_map.keys()),\n",
    "#                                         draftable_df['player_name'].map(player_name_map),\n",
    "#                                         draftable_df['player_name'])\n",
    "#                               )"
   ]
  },
  {
   "cell_type": "markdown",
   "id": "twelve-weapon",
   "metadata": {},
   "source": [
    "## Historical Data"
   ]
  },
  {
   "cell_type": "code",
   "execution_count": 109,
   "id": "bulgarian-least",
   "metadata": {},
   "outputs": [],
   "source": [
    "class HistoricalDataGolfExtractor:\n",
    "    def __init__(self,\n",
    "                 tour,\n",
    "                 config=config,\n",
    "                 api_path=API_PATH,\n",
    "                 api_key=MY_API_KEY,\n",
    "                 odds_format='percent',\n",
    "                ):\n",
    "            self.tour = tour\n",
    "            self.config = config\n",
    "            self.api_path = api_path\n",
    "            self.api_key = api_key\n",
    "            self.odds_format = odds_format    \n",
    "    \n",
    "    def get_historical_event_ids(self, config_key):\n",
    "        path = self.config[config_key].get('path')\n",
    "        response = requests.get(f'{self.api_path}{path}?&key={self.api_key}')\n",
    "        df = (pd.DataFrame(response.json())\n",
    "              .query(f\"tour == '{self.tour}'\")\n",
    "              .reset_index(drop=True)\n",
    "             )\n",
    "        \n",
    "        df = df[config[config_key]['fields']]\n",
    "        return zip(df.calendar_year, df.event_id)\n",
    "    \n",
    "    def get_historical_round_data(self, config_key, events):\n",
    "        path = self.config[config_key].get('path')\n",
    "        event_cols = ['round','year','event_id','event_completed']\n",
    "        round_cols = [f'round_{round_n}' for round_n in range(1,5)]\n",
    "        round_lst = []\n",
    "        for event in tqdm(list(events)):\n",
    "            year, event_id = event[0], event[1]\n",
    "            response = requests.get(f'https://feeds.datagolf.com/{path}?tour={self.tour}&event_id={event_id}&year={year}&key={self.api_key}')\n",
    "            df = pd.DataFrame(response.json())\n",
    "            event_completed = df['event_completed'][0]\n",
    "            event_name = df['event_name'][0]\n",
    "            for idx in range(df.shape[0]):\n",
    "                player_scores = df['scores'][idx]\n",
    "                player_info = pd.DataFrame({k: v for k, v in player_scores.items() if k not in rounds}, index=[0])\n",
    "\n",
    "                for r in rounds:\n",
    "                    round_data = player_scores.get(r)\n",
    "                    if round_data is not None:\n",
    "                        round_df = pd.DataFrame(round_data, index=[0])\n",
    "                        round_df['round'] = r\n",
    "                        round_df['year'] = year\n",
    "                        round_df['event_id'] = event_id\n",
    "                        round_df['event_completed'] = event_completed\n",
    "                        round_df['event_name'] = event_name\n",
    "                        \n",
    "                        round_lst.append(pd.concat([player_info, round_df], axis = 1))\n",
    "                        \n",
    "        return pd.concat(round_lst).reset_index(drop=True)"
   ]
  },
  {
   "cell_type": "code",
   "execution_count": 110,
   "id": "refined-combine",
   "metadata": {},
   "outputs": [],
   "source": [
    "#response = requests.get(f'https://feeds.datagolf.com/historical-raw-data/rounds?tour=pga&event_id=2&year=2017&key={MY_API_KEY}')"
   ]
  },
  {
   "cell_type": "code",
   "execution_count": 111,
   "id": "mounted-nowhere",
   "metadata": {},
   "outputs": [],
   "source": [
    "#pd.DataFrame(response.json())"
   ]
  },
  {
   "cell_type": "code",
   "execution_count": 112,
   "id": "activated-internet",
   "metadata": {},
   "outputs": [],
   "source": [
    "#pd.DataFrame(response.json()).scores[33]"
   ]
  },
  {
   "cell_type": "code",
   "execution_count": 115,
   "id": "introductory-domestic",
   "metadata": {
    "scrolled": true
   },
   "outputs": [
    {
     "data": {
      "application/vnd.jupyter.widget-view+json": {
       "model_id": "8a15a685d2a24b86a6f578c44517358c",
       "version_major": 2,
       "version_minor": 0
      },
      "text/plain": [
       "HBox(children=(FloatProgress(value=0.0, max=213.0), HTML(value='')))"
      ]
     },
     "metadata": {},
     "output_type": "display_data"
    },
    {
     "name": "stdout",
     "output_type": "stream",
     "text": [
      "\n"
     ]
    }
   ],
   "source": [
    "hist_dg_extractor = HistoricalDataGolfExtractor(tour='pga')\n",
    "events = hist_dg_extractor.get_historical_event_ids('historical_event_lst')\n",
    "round_data = hist_dg_extractor.get_historical_round_data('historical_round_data', events)"
   ]
  },
  {
   "cell_type": "code",
   "execution_count": 116,
   "id": "executed-major",
   "metadata": {},
   "outputs": [
    {
     "data": {
      "text/html": [
       "<div>\n",
       "<style scoped>\n",
       "    .dataframe tbody tr th:only-of-type {\n",
       "        vertical-align: middle;\n",
       "    }\n",
       "\n",
       "    .dataframe tbody tr th {\n",
       "        vertical-align: top;\n",
       "    }\n",
       "\n",
       "    .dataframe thead th {\n",
       "        text-align: right;\n",
       "    }\n",
       "</style>\n",
       "<table border=\"1\" class=\"dataframe\">\n",
       "  <thead>\n",
       "    <tr style=\"text-align: right;\">\n",
       "      <th></th>\n",
       "      <th>course_name</th>\n",
       "      <th>course_num</th>\n",
       "      <th>dg_id</th>\n",
       "      <th>event_completed</th>\n",
       "      <th>event_id</th>\n",
       "      <th>event_name</th>\n",
       "      <th>fin_text</th>\n",
       "      <th>player_name</th>\n",
       "      <th>round</th>\n",
       "      <th>score</th>\n",
       "      <th>sg_app</th>\n",
       "      <th>sg_arg</th>\n",
       "      <th>sg_ott</th>\n",
       "      <th>sg_putt</th>\n",
       "      <th>sg_t2g</th>\n",
       "      <th>sg_total</th>\n",
       "      <th>year</th>\n",
       "    </tr>\n",
       "  </thead>\n",
       "  <tbody>\n",
       "    <tr>\n",
       "      <th>83232</th>\n",
       "      <td>La Quinta CC</td>\n",
       "      <td>202</td>\n",
       "      <td>19195</td>\n",
       "      <td>2017-01-22</td>\n",
       "      <td>2</td>\n",
       "      <td>CareerBuilder Challenge</td>\n",
       "      <td>T34</td>\n",
       "      <td>Rahm, Jon</td>\n",
       "      <td>round_1</td>\n",
       "      <td>71</td>\n",
       "      <td>None</td>\n",
       "      <td>None</td>\n",
       "      <td>None</td>\n",
       "      <td>None</td>\n",
       "      <td>None</td>\n",
       "      <td>-0.846</td>\n",
       "      <td>2017</td>\n",
       "    </tr>\n",
       "    <tr>\n",
       "      <th>83233</th>\n",
       "      <td>Nicklaus Tournament Course</td>\n",
       "      <td>233</td>\n",
       "      <td>19195</td>\n",
       "      <td>2017-01-22</td>\n",
       "      <td>2</td>\n",
       "      <td>CareerBuilder Challenge</td>\n",
       "      <td>T34</td>\n",
       "      <td>Rahm, Jon</td>\n",
       "      <td>round_2</td>\n",
       "      <td>66</td>\n",
       "      <td>None</td>\n",
       "      <td>None</td>\n",
       "      <td>None</td>\n",
       "      <td>None</td>\n",
       "      <td>None</td>\n",
       "      <td>4.365</td>\n",
       "      <td>2017</td>\n",
       "    </tr>\n",
       "    <tr>\n",
       "      <th>83234</th>\n",
       "      <td>Stadium Course</td>\n",
       "      <td>704</td>\n",
       "      <td>19195</td>\n",
       "      <td>2017-01-22</td>\n",
       "      <td>2</td>\n",
       "      <td>CareerBuilder Challenge</td>\n",
       "      <td>T34</td>\n",
       "      <td>Rahm, Jon</td>\n",
       "      <td>round_3</td>\n",
       "      <td>70</td>\n",
       "      <td>2.373</td>\n",
       "      <td>-2.344</td>\n",
       "      <td>0.54</td>\n",
       "      <td>2.025</td>\n",
       "      <td>0.57</td>\n",
       "      <td>2.596</td>\n",
       "      <td>2017</td>\n",
       "    </tr>\n",
       "    <tr>\n",
       "      <th>83235</th>\n",
       "      <td>Stadium Course</td>\n",
       "      <td>704</td>\n",
       "      <td>19195</td>\n",
       "      <td>2017-01-22</td>\n",
       "      <td>2</td>\n",
       "      <td>CareerBuilder Challenge</td>\n",
       "      <td>T34</td>\n",
       "      <td>Rahm, Jon</td>\n",
       "      <td>round_4</td>\n",
       "      <td>72</td>\n",
       "      <td>-2.267</td>\n",
       "      <td>-0.325</td>\n",
       "      <td>0.761</td>\n",
       "      <td>1.13</td>\n",
       "      <td>-1.831</td>\n",
       "      <td>-0.701</td>\n",
       "      <td>2017</td>\n",
       "    </tr>\n",
       "  </tbody>\n",
       "</table>\n",
       "</div>"
      ],
      "text/plain": [
       "                      course_name  course_num  dg_id event_completed  \\\n",
       "83232                La Quinta CC         202  19195      2017-01-22   \n",
       "83233  Nicklaus Tournament Course         233  19195      2017-01-22   \n",
       "83234              Stadium Course         704  19195      2017-01-22   \n",
       "83235              Stadium Course         704  19195      2017-01-22   \n",
       "\n",
       "       event_id               event_name fin_text player_name    round  score  \\\n",
       "83232         2  CareerBuilder Challenge      T34   Rahm, Jon  round_1     71   \n",
       "83233         2  CareerBuilder Challenge      T34   Rahm, Jon  round_2     66   \n",
       "83234         2  CareerBuilder Challenge      T34   Rahm, Jon  round_3     70   \n",
       "83235         2  CareerBuilder Challenge      T34   Rahm, Jon  round_4     72   \n",
       "\n",
       "      sg_app sg_arg sg_ott sg_putt sg_t2g  sg_total  year  \n",
       "83232   None   None   None    None   None    -0.846  2017  \n",
       "83233   None   None   None    None   None     4.365  2017  \n",
       "83234  2.373 -2.344   0.54   2.025   0.57     2.596  2017  \n",
       "83235 -2.267 -0.325  0.761    1.13 -1.831    -0.701  2017  "
      ]
     },
     "execution_count": 116,
     "metadata": {},
     "output_type": "execute_result"
    }
   ],
   "source": [
    "round_data.query(\"(dg_id == 19195) & (year == 2017) & (event_id == 2)\")"
   ]
  },
  {
   "cell_type": "code",
   "execution_count": 117,
   "id": "tested-answer",
   "metadata": {},
   "outputs": [],
   "source": [
    "round_data.to_csv('data/historical_round_scores.csv', index=False)"
   ]
  },
  {
   "cell_type": "code",
   "execution_count": null,
   "id": "differential-library",
   "metadata": {},
   "outputs": [],
   "source": [
    "import statsmodels.api as sm\n",
    "X = grouped_df[['sg_putt_sum','sg_t2g_sum']]\n",
    "y = grouped_df['fin_num']"
   ]
  },
  {
   "cell_type": "code",
   "execution_count": null,
   "id": "absent-obligation",
   "metadata": {},
   "outputs": [],
   "source": [
    "m = sm.OLS.from_formula('fin_num ~ sg_putt_sum + sg_t2g_sum + sg_arg_std', data = grouped_df)"
   ]
  },
  {
   "cell_type": "code",
   "execution_count": null,
   "id": "fantastic-tuition",
   "metadata": {},
   "outputs": [],
   "source": [
    "res = m.fit()"
   ]
  },
  {
   "cell_type": "code",
   "execution_count": null,
   "id": "limited-purchase",
   "metadata": {},
   "outputs": [],
   "source": [
    "print(res.summary())"
   ]
  },
  {
   "cell_type": "code",
   "execution_count": null,
   "id": "attended-substitute",
   "metadata": {},
   "outputs": [],
   "source": [
    "grouped_df.fin_num.value_counts()"
   ]
  },
  {
   "cell_type": "code",
   "execution_count": null,
   "id": "experimental-outreach",
   "metadata": {},
   "outputs": [],
   "source": [
    "# Historical Betting Odds\n",
    "response = requests.get(f'https://feeds.datagolf.com/historical-odds/event-list?tour={tour}&key={MY_API_KEY}')\n",
    "json_data = response.json()"
   ]
  },
  {
   "cell_type": "code",
   "execution_count": null,
   "id": "latter-trial",
   "metadata": {},
   "outputs": [],
   "source": [
    "book = 'bet365'\n",
    "event_id = 536\n",
    "market = \"win\"\n",
    "response = requests.get(f'https://feeds.datagolf.com/historical-odds/outrights?tour={tour}&event_id={event_id}&year={year}&market={market}&book={book}&key={MY_API_KEY}')\n",
    "json_data = response.json()"
   ]
  },
  {
   "cell_type": "code",
   "execution_count": null,
   "id": "suited-footwear",
   "metadata": {},
   "outputs": [],
   "source": [
    "pd.DataFrame(json_data['odds']).sort_values('bet_outcome_numeric', ascending=False)"
   ]
  },
  {
   "cell_type": "code",
   "execution_count": null,
   "id": "oriented-deadline",
   "metadata": {},
   "outputs": [],
   "source": [
    "## Pre-tournament predictions archive\n",
    "response = requests.get(f'https://feeds.datagolf.com/preds/pre-tournament?event_id={event_id}&year={year}&key=dac62093607b097430db71962680')\n",
    "json_data = response.json()"
   ]
  }
 ],
 "metadata": {
  "kernelspec": {
   "display_name": "Python 3",
   "language": "python",
   "name": "python3"
  },
  "language_info": {
   "codemirror_mode": {
    "name": "ipython",
    "version": 3
   },
   "file_extension": ".py",
   "mimetype": "text/x-python",
   "name": "python",
   "nbconvert_exporter": "python",
   "pygments_lexer": "ipython3",
   "version": "3.6.0"
  }
 },
 "nbformat": 4,
 "nbformat_minor": 5
}
