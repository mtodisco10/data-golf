{
 "cells": [
  {
   "cell_type": "code",
   "execution_count": 30,
   "id": "double-puppy",
   "metadata": {},
   "outputs": [],
   "source": [
    "import requests\n",
    "import json\n",
    "import pandas as pd\n",
    "from functools import reduce\n",
    "from datetime import datetime"
   ]
  },
  {
   "cell_type": "code",
   "execution_count": 19,
   "id": "turned-chassis",
   "metadata": {},
   "outputs": [],
   "source": [
    "MY_API_KEY = 'dac62093607b097430db71962680'\n",
    "API_PATH = 'https://feeds.datagolf.com/'\n",
    "FILE_FORMAT = 'json'"
   ]
  },
  {
   "cell_type": "code",
   "execution_count": 50,
   "id": "everyday-fusion",
   "metadata": {},
   "outputs": [],
   "source": [
    "tour_lst = [\n",
    "    'PGA',\n",
    "    'OPP',\n",
    "    'EUR',\n",
    "    'KFT',\n",
    "]"
   ]
  },
  {
   "cell_type": "code",
   "execution_count": 332,
   "id": "greek-produce",
   "metadata": {},
   "outputs": [],
   "source": [
    "config = {\n",
    "    'field_updates':\n",
    "    [\n",
    "        'dg_id',\n",
    "        'player_name',\n",
    "        'country',\n",
    "        'event_name',\n",
    "        'current_round',\n",
    "        'dk_id',\n",
    "        'dk_salary',\n",
    "        'fd_id',\n",
    "        'fd_salary',\n",
    "        'yh_id',\n",
    "        'yh_salary',\n",
    "        'early_late',\n",
    "        'last_updated',\n",
    "    ],\n",
    "    'rankings':\n",
    "    [\n",
    "        'dg_id',\n",
    "        #'player_name',\n",
    "        'primary_tour',\n",
    "        'datagolf_rank',\n",
    "        'owgr_rank',\n",
    "        'dg_skill_estimate'\n",
    "    ],\n",
    "    'pre_tourney_preds':\n",
    "    [\n",
    "        'dg_id',\n",
    "        #'player_name',\n",
    "        'make_cut_baseline',\n",
    "        'top_10_baseline', \n",
    "        'top_20_baseline', \n",
    "        'top_5_baseline',\n",
    "        'win_baseline', \n",
    "        'make_cut_baseline_history_fit',\n",
    "        'top_10_baseline_history_fit', \n",
    "        'top_20_baseline_history_fit',\n",
    "        'top_5_baseline_history_fit', \n",
    "        'win_baseline_history_fit'\n",
    "    ],\n",
    "    'skill_decomps':\n",
    "    ['dg_id',\n",
    "     #'player_name',\n",
    "     'baseline_pred', \n",
    "     'timing_adjustment',\n",
    "     'age_adjustment',\n",
    "     #'cf_approach_comp',\n",
    "     #'cf_short_comp',\n",
    "     'strokes_gained_category_adjustment',\n",
    "     'course_experience_adjustment',\n",
    "     'course_history_adjustment', \n",
    "     'total_course_history_adjustment', \n",
    "     'total_fit_adjustment',\n",
    "     'driving_accuracy_adjustment',\n",
    "     'driving_distance_adjustment', \n",
    "     'other_fit_adjustment',\n",
    "     'final_pred',\n",
    "    ]\n",
    "}"
   ]
  },
  {
   "cell_type": "code",
   "execution_count": 333,
   "id": "blond-pilot",
   "metadata": {},
   "outputs": [],
   "source": [
    "def get_field_updates(path, tour, key=MY_API_KEY):\n",
    "    response = requests.get(f'{API_PATH}{path}?tour={tour}&key={key}')\n",
    "    data = response.json()\n",
    "    df = pd.DataFrame(data['field'])\n",
    "    \n",
    "    for col in data.keys():\n",
    "        if col != 'field':\n",
    "            df[col] = data[col]\n",
    "    \n",
    "    return df[config['field_updates']]\n",
    "\n",
    "def get_rankings(path, key=MY_API_KEY):\n",
    "    response = requests.get(f'{API_PATH}{path}?&key={key}')\n",
    "    data = response.json()\n",
    "    df = pd.DataFrame(data['rankings'])\n",
    "    \n",
    "    return df[config['rankings']]\n",
    "\n",
    "def get_pre_tourney_preds(path, tour, odds_format='percent', key=MY_API_KEY):\n",
    "    response = requests.get(f'{API_PATH}{path}?tour={tour}&odds_format={odds_format}&key={key}')\n",
    "    data = response.json()\n",
    "    \n",
    "    model_dict = {}\n",
    "    for model in data['models_available']:\n",
    "        df = pd.DataFrame(data[model])\n",
    "        pred_cols = ['make_cut','top_10','top_20','top_5','win']\n",
    "        df.rename(\n",
    "            columns={x: x + f'_{model}' for x in pred_cols}, inplace=True\n",
    "        )\n",
    "        \n",
    "        model_dict[model] = df\n",
    "        \n",
    "    cols_to_use = [col for col in model_dict['baseline_history_fit'].columns if 'history' in col] + ['dg_id']\n",
    "    \n",
    "    df = (model_dict['baseline']\n",
    "          .merge(model_dict['baseline_history_fit'][cols_to_use],\n",
    "                 how='left',\n",
    "                 on='dg_id'\n",
    "                )\n",
    "         )\n",
    "    \n",
    "    return df[config['pre_tourney_preds']]\n",
    "\n",
    "def get_player_skill_decomps(path, tour, key=MY_API_KEY):\n",
    "    response = requests.get(f'{API_PATH}{path}?tour={tour}&key={key}')\n",
    "    data = response.json()\n",
    "    \n",
    "    df = pd.DataFrame(data['players'])\n",
    "    \n",
    "    return df[config['skill_decomps']]"
   ]
  },
  {
   "cell_type": "code",
   "execution_count": 369,
   "id": "awful-harrison",
   "metadata": {},
   "outputs": [],
   "source": [
    "def merge_dfs(dfs):\n",
    "    merged_dfs = reduce(lambda left, right: pd.merge(left, right, on='dg_id', how='left'), dfs)\n",
    "    \n",
    "    return merged_dfs"
   ]
  },
  {
   "cell_type": "code",
   "execution_count": 370,
   "id": "turkish-anthropology",
   "metadata": {},
   "outputs": [],
   "source": [
    "field_updates_df = get_field_updates('field-updates', 'pga')\n",
    "rank_df = get_rankings('preds/get-dg-rankings')\n",
    "pred_data = get_pre_tourney_preds('preds/pre-tournament', 'pga')\n",
    "skill_df = get_player_skill_decomps('preds/player-decompositions?', 'pga')"
   ]
  },
  {
   "cell_type": "code",
   "execution_count": 372,
   "id": "animated-tiffany",
   "metadata": {},
   "outputs": [],
   "source": [
    "merged_df = merge_dfs([field_updates_df, rank_df, pred_data, skill_df])"
   ]
  },
  {
   "cell_type": "code",
   "execution_count": 383,
   "id": "aware-magic",
   "metadata": {},
   "outputs": [],
   "source": [
    "merged_df.to_csv(f'data_golf_{now.strftime(\"%Y-%m-%d\")}.csv', index=False)"
   ]
  }
 ],
 "metadata": {
  "kernelspec": {
   "display_name": "Python 3",
   "language": "python",
   "name": "python3"
  },
  "language_info": {
   "codemirror_mode": {
    "name": "ipython",
    "version": 3
   },
   "file_extension": ".py",
   "mimetype": "text/x-python",
   "name": "python",
   "nbconvert_exporter": "python",
   "pygments_lexer": "ipython3",
   "version": "3.6.0"
  }
 },
 "nbformat": 4,
 "nbformat_minor": 5
}
