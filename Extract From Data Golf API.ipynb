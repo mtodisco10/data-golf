{
 "cells": [
  {
   "cell_type": "code",
   "execution_count": 1,
   "id": "bottom-windows",
   "metadata": {},
   "outputs": [],
   "source": [
    "import pandas as pd\n",
    "import numpy as np\n",
    "import requests\n",
    "import json\n",
    "import os\n",
    "from tqdm.notebook import tqdm\n",
    "from functools import reduce\n",
    "from datetime import datetime\n",
    "import warnings \n",
    "warnings.filterwarnings('ignore')\n",
    "\n",
    "from dotenv import load_dotenv\n",
    "%load_ext dotenv\n",
    "%dotenv\n",
    "\n",
    "from config import API_PATH, tour_lst, config\n",
    "\n",
    "MY_API_KEY = os.getenv('MY_API_KEY')"
   ]
  },
  {
   "cell_type": "code",
   "execution_count": 3,
   "id": "sudden-teddy",
   "metadata": {},
   "outputs": [],
   "source": [
    "def unpack_json_from_api(end_point, key=None):\n",
    "    \"\"\"\n",
    "    Helper function to turn json data from api into a DataFrame\n",
    "    \"\"\"\n",
    "    response = requests.get(end_point)\n",
    "    json_data = response.json()\n",
    "    df = pd.DataFrame(json_data[key])\n",
    "    return json_data, df"
   ]
  },
  {
   "cell_type": "code",
   "execution_count": 4,
   "id": "historical-remedy",
   "metadata": {
    "code_folding": [
     0
    ]
   },
   "outputs": [],
   "source": [
    "# def get_draft_group_id(contest_obj, contest_type_id=84):\n",
    "#     draft_groups = contest_obj.draft_groups\n",
    "#     draft_group_id_lst = []\n",
    "#     for x in draft_groups:\n",
    "#         if x.contest_type_id == contest_type_id:\n",
    "#             draft_group_id_lst.append(x.draft_group_id)\n",
    "            \n",
    "#     return min(draft_group_id_lst)\n",
    "\n",
    "# #draft_group_id = get_draft_group_id(contests)\n",
    "\n",
    "# def get_draftables(draft_group_id):\n",
    "#     df_lst = []\n",
    "#     player_lst = Client().draftables(draft_group_id=draft_group_id).players\n",
    "#     for player in tqdm(player_lst):\n",
    "#         name_details = player.name_details\n",
    "#         first = name_details.first\n",
    "#         last = name_details.last\n",
    "#         name = f'{last}, {first}'\n",
    "#         salary = player.salary\n",
    "\n",
    "#         df = pd.DataFrame({\n",
    "#             'player_name': name,\n",
    "#             'showdown_salary': salary\n",
    "#         }, index=[0])\n",
    "\n",
    "#         df_lst.append(df)\n",
    "\n",
    "#     return pd.concat(df_lst).reset_index(drop=True)\n",
    "\n",
    "# player_name_map = {\n",
    "#     'Lee, Kyoung-Hoon':'Lee, Kyounghoon',\n",
    "#     'Fitzpatrick, Matt':'Fitzpatrick, Matthew'\n",
    "# }\n",
    "\n",
    "# draftable_df['player_name'] = (np.where(draftable_df['player_name'].isin(player_name_map.keys()),\n",
    "#                                         draftable_df['player_name'].map(player_name_map),\n",
    "#                                         draftable_df['player_name'])\n",
    "#                               )"
   ]
  },
  {
   "cell_type": "markdown",
   "id": "young-afternoon",
   "metadata": {},
   "source": [
    "# Data-golf\n",
    "## Extract the current tournament field and relevant details for each golfer"
   ]
  },
  {
   "cell_type": "code",
   "execution_count": 5,
   "id": "departmental-update",
   "metadata": {},
   "outputs": [],
   "source": [
    "class CurrentTourneyDataGolfExtractor:\n",
    "    def __init__(self,\n",
    "                 tour,\n",
    "                 config=config,\n",
    "                 api_path=API_PATH,\n",
    "                 api_key=MY_API_KEY,\n",
    "                 odds_format='percent',\n",
    "                ):\n",
    "        \"\"\"\n",
    "        \"\"\"\n",
    "        self.tour = tour\n",
    "        self.config = config\n",
    "        self.api_path = api_path\n",
    "        self.api_key = api_key\n",
    "        self.odds_format = odds_format\n",
    "    \n",
    "    def get_field_updates(self, config_key):\n",
    "        \"\"\"\n",
    "        Returns the golfers that are in the field along with their respective daily fantasy salaries\n",
    "        Data corresponds to: https://datagolf.com/field-updates\n",
    "        \"\"\"\n",
    "        path = self.config[config_key].get('path')\n",
    "        end_point = f'{self.api_path}{path}?tour={self.tour}&key={self.api_key}'\n",
    "        data, df = unpack_json_from_api(end_point, 'field')\n",
    "        for col in data.keys():\n",
    "            if col != 'field':\n",
    "                df[col] = data[col]\n",
    "                \n",
    "        return df[self.config[config_key]['fields']]\n",
    "    \n",
    "    def get_rankings(self, config_key):\n",
    "        \"\"\"\n",
    "        \"\"\"\n",
    "        path = self.config[config_key].get('path')\n",
    "        end_point = f'{self.api_path}{path}?&key={self.api_key}'\n",
    "        df = unpack_json_from_api(end_point, 'rankings')[1]\n",
    "        \n",
    "        return df[config[config_key]['fields']]\n",
    "    \n",
    "    def get_pre_tourney_preds(self, config_key):\n",
    "        \"\"\"\n",
    "        \"\"\"\n",
    "        path = self.config[config_key].get('path')\n",
    "        response = requests.get(f'{self.api_path}{path}?tour={self.tour}&odds_format={self.odds_format}&key={self.api_key}')\n",
    "        data = response.json()\n",
    "\n",
    "        model_dict = {}\n",
    "        for model in data['models_available']:\n",
    "            df = pd.DataFrame(data[model])\n",
    "            pred_cols = ['make_cut','top_10','top_20','top_5','win']\n",
    "            df.rename(\n",
    "                columns={x: x + f'_{model}' for x in pred_cols}, inplace=True\n",
    "            )\n",
    "            \n",
    "            model_dict[model] = df\n",
    "            \n",
    "        if len(model_dict.keys()) > 1:\n",
    "            \n",
    "            cols_to_use = [col for col in model_dict['baseline_history_fit'].columns if 'history' in col] + ['dg_id']\n",
    "        \n",
    "            df = (model_dict['baseline']\n",
    "                  .merge(model_dict['baseline_history_fit'][cols_to_use],\n",
    "                         how='left',\n",
    "                         on='dg_id'\n",
    "                        )\n",
    "                 )\n",
    "        \n",
    "        else:\n",
    "            df = model_dict['baseline']\n",
    "    \n",
    "        return df[config[config_key]['fields']]\n",
    "    \n",
    "    def get_player_skill_decomps(self, config_key):\n",
    "        \"\"\"\n",
    "        \"\"\"\n",
    "        path = self.config[config_key].get('path')\n",
    "        end_point = f'{self.api_path}{path}?tour={self.tour}&key={self.api_key}'\n",
    "        df = unpack_json_from_api(end_point, 'players')[1]\n",
    "        \n",
    "        return df[config[config_key]['fields']]\n",
    "    \n",
    "    def pull_and_merge_dfs(self):\n",
    "        \"\"\"\n",
    "        \"\"\"\n",
    "        field_updates = self.get_field_updates('field_updates')\n",
    "        rankings = self.get_rankings('rankings')\n",
    "        pre_tourney_preds = self.get_pre_tourney_preds('pre_tourney_preds')\n",
    "        skill_decomps = self.get_player_skill_decomps('skill_decomps')\n",
    "        \n",
    "        dfs=[field_updates,\n",
    "             rankings,\n",
    "             pre_tourney_preds,\n",
    "             skill_decomps]\n",
    "        merged_dfs = reduce(lambda left, right: pd.merge(left, right, on='dg_id', how='left'), dfs)\n",
    "        \n",
    "        return merged_dfs"
   ]
  },
  {
   "cell_type": "code",
   "execution_count": 7,
   "id": "municipal-venture",
   "metadata": {},
   "outputs": [],
   "source": [
    "#Pull and merge the data into a single DataFrame\n",
    "dg_current_extractor = CurrentTourneyDataGolfExtractor('pga')\n",
    "dg_current = dg_current_extractor.pull_and_merge_dfs()\n",
    "\n",
    "#Write the data to a csv\n",
    "#Using a new file name for each tournament\n",
    "event_name = '_'.join(dg_current['event_name'][0].split()).lower()\n",
    "year = datetime.now().strftime('%Y')\n",
    "fn = f'{year}_{event_name}_pre_tourney_snapshot'\n",
    "dg_current.to_csv(f'data/{fn}.csv', index=False)"
   ]
  },
  {
   "cell_type": "markdown",
   "id": "professional-citation",
   "metadata": {},
   "source": [
    "# Historical Data"
   ]
  },
  {
   "cell_type": "code",
   "execution_count": 12,
   "id": "compound-delivery",
   "metadata": {},
   "outputs": [],
   "source": [
    "class HistoricalDataGolfExtractor:\n",
    "    def __init__(self,\n",
    "                 tour,\n",
    "                 config=config,\n",
    "                 api_path=API_PATH,\n",
    "                 api_key=MY_API_KEY,\n",
    "                 odds_format='percent',\n",
    "                ):\n",
    "            self.tour = tour\n",
    "            self.config = config\n",
    "            self.api_path = api_path\n",
    "            self.api_key = api_key\n",
    "            self.odds_format = odds_format    \n",
    "    \n",
    "    def get_historical_event_ids(self, config_key):\n",
    "        path = self.config[config_key].get('path')\n",
    "        response = requests.get(f'{self.api_path}{path}?&key={self.api_key}')\n",
    "        df = (pd.DataFrame(response.json())\n",
    "              .query(f\"tour == '{self.tour}'\")\n",
    "              .reset_index(drop=True)\n",
    "             )\n",
    "        \n",
    "        df = df[config[config_key]['fields']]\n",
    "        return list(zip(df.calendar_year, df.event_id))\n",
    "    \n",
    "    def get_historical_round_data(self, config_key, events):\n",
    "        path = self.config[config_key].get('path')\n",
    "        event_cols = ['round','year','event_id','event_completed']\n",
    "        round_cols = [f'round_{round_n}' for round_n in range(1,5)]\n",
    "        round_lst = []\n",
    "        for event in tqdm(list(events)):\n",
    "            year, event_id = event[0], event[1]\n",
    "            response = requests.get(f'https://feeds.datagolf.com/{path}?tour={self.tour}&event_id={event_id}&year={year}&key={self.api_key}')\n",
    "            df = pd.DataFrame(response.json())\n",
    "            for idx in range(df.shape[0]):\n",
    "                player_scores = df['scores'][idx]\n",
    "                player_info = pd.DataFrame({k: v for k, v in player_scores.items() if k not in round_cols}, index=[0])\n",
    "\n",
    "                for r in round_cols:\n",
    "                    round_data = player_scores.get(r)\n",
    "                    if round_data is not None:\n",
    "                        round_df = pd.DataFrame(round_data, index=[0])\n",
    "                        round_df['round'] = r\n",
    "                        round_df['year'] = year\n",
    "                        round_df['event_id'] = event_id\n",
    "                        round_df['event_completed'] = df['event_completed'][0]\n",
    "                        round_df['event_name'] =  df['event_name'][0]\n",
    "                        \n",
    "                        round_lst.append(pd.concat([player_info, round_df], axis = 1))\n",
    "                        \n",
    "        return pd.concat(round_lst).reset_index(drop=True)"
   ]
  },
  {
   "cell_type": "code",
   "execution_count": 13,
   "id": "thrown-software",
   "metadata": {
    "scrolled": true
   },
   "outputs": [
    {
     "data": {
      "application/vnd.jupyter.widget-view+json": {
       "model_id": "77f0db3cf2e6447b804bc80846b3098f",
       "version_major": 2,
       "version_minor": 0
      },
      "text/plain": [
       "HBox(children=(FloatProgress(value=0.0, max=213.0), HTML(value='')))"
      ]
     },
     "metadata": {},
     "output_type": "display_data"
    },
    {
     "name": "stdout",
     "output_type": "stream",
     "text": [
      "\n"
     ]
    }
   ],
   "source": [
    "#Pull historical data for the PGA\n",
    "dg_hist_extractor = HistoricalDataGolfExtractor(tour='pga')\n",
    "events = dg_hist_extractor.get_historical_event_ids('historical_event_lst')\n",
    "round_data = dg_hist_extractor.get_historical_round_data('historical_round_data', events)"
   ]
  },
  {
   "cell_type": "code",
   "execution_count": null,
   "id": "basic-furniture",
   "metadata": {},
   "outputs": [],
   "source": [
    "# Write data to csv\n",
    "round_data.to_csv('data/historical_round_scores.csv', index=False)"
   ]
  },
  {
   "cell_type": "code",
   "execution_count": null,
   "id": "intimate-farming",
   "metadata": {},
   "outputs": [],
   "source": [
    "import statsmodels.api as sm\n",
    "X = grouped_df[['sg_putt_sum','sg_t2g_sum']]\n",
    "y = grouped_df['fin_num']"
   ]
  },
  {
   "cell_type": "code",
   "execution_count": null,
   "id": "aging-appendix",
   "metadata": {},
   "outputs": [],
   "source": [
    "m = sm.OLS.from_formula('fin_num ~ sg_putt_sum + sg_t2g_sum + sg_arg_std', data = grouped_df)"
   ]
  },
  {
   "cell_type": "code",
   "execution_count": null,
   "id": "interim-landing",
   "metadata": {},
   "outputs": [],
   "source": [
    "res = m.fit()"
   ]
  },
  {
   "cell_type": "code",
   "execution_count": null,
   "id": "funded-wireless",
   "metadata": {},
   "outputs": [],
   "source": [
    "print(res.summary())"
   ]
  },
  {
   "cell_type": "code",
   "execution_count": null,
   "id": "continuing-climb",
   "metadata": {},
   "outputs": [],
   "source": [
    "grouped_df.fin_num.value_counts()"
   ]
  },
  {
   "cell_type": "code",
   "execution_count": null,
   "id": "collective-contract",
   "metadata": {},
   "outputs": [],
   "source": [
    "# Historical Betting Odds\n",
    "response = requests.get(f'https://feeds.datagolf.com/historical-odds/event-list?tour=pga&key={MY_API_KEY}')\n",
    "json_data = response.json()"
   ]
  },
  {
   "cell_type": "code",
   "execution_count": null,
   "id": "sensitive-stadium",
   "metadata": {},
   "outputs": [],
   "source": [
    "book = 'bet365'\n",
    "event_id = 536\n",
    "market = \"win\"\n",
    "response = requests.get(f'https://feeds.datagolf.com/historical-odds/outrights?tour=pga&event_id={event_id}&year={year}&market={market}&book={book}&key={MY_API_KEY}')\n",
    "json_data = response.json()"
   ]
  },
  {
   "cell_type": "code",
   "execution_count": null,
   "id": "secret-stereo",
   "metadata": {},
   "outputs": [],
   "source": [
    "events"
   ]
  },
  {
   "cell_type": "code",
   "execution_count": null,
   "id": "cognitive-bulgaria",
   "metadata": {},
   "outputs": [],
   "source": [
    "odds_lst = []\n",
    "for event in events:\n",
    "    year, event_id = event[0], event[1]\n",
    "    end_point = f'https://feeds.datagolf.com/historical-odds/outrights?tour=pga&event_id={event_id}&year={year}&market={market}&book={book}&key={MY_API_KEY}'\n",
    "    response = requests.get()\n",
    "    df = pd.DataFrame(response.json())"
   ]
  },
  {
   "cell_type": "code",
   "execution_count": null,
   "id": "freelance-maryland",
   "metadata": {},
   "outputs": [],
   "source": []
  },
  {
   "cell_type": "code",
   "execution_count": null,
   "id": "adult-reviewer",
   "metadata": {},
   "outputs": [],
   "source": [
    "pd.DataFrame(json_data['odds']).sort_values('bet_outcome_numeric', ascending=False)"
   ]
  },
  {
   "cell_type": "code",
   "execution_count": null,
   "id": "distributed-bouquet",
   "metadata": {},
   "outputs": [],
   "source": [
    "## Pre-tournament predictions archive\n",
    "response = requests.get(f'https://feeds.datagolf.com/preds/pre-tournament?event_id={event_id}&year={year}&key=dac62093607b097430db71962680')\n",
    "json_data = response.json()"
   ]
  }
 ],
 "metadata": {
  "kernelspec": {
   "display_name": "Python 3",
   "language": "python",
   "name": "python3"
  },
  "language_info": {
   "codemirror_mode": {
    "name": "ipython",
    "version": 3
   },
   "file_extension": ".py",
   "mimetype": "text/x-python",
   "name": "python",
   "nbconvert_exporter": "python",
   "pygments_lexer": "ipython3",
   "version": "3.6.0"
  }
 },
 "nbformat": 4,
 "nbformat_minor": 5
}
